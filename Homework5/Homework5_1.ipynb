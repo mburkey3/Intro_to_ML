{
  "nbformat": 4,
  "nbformat_minor": 0,
  "metadata": {
    "colab": {
      "provenance": [],
      "authorship_tag": "ABX9TyM9GybWrQt6XtRWVRD7fJxq",
      "include_colab_link": true
    },
    "kernelspec": {
      "name": "python3",
      "display_name": "Python 3"
    },
    "language_info": {
      "name": "python"
    }
  },
  "cells": [
    {
      "cell_type": "markdown",
      "metadata": {
        "id": "view-in-github",
        "colab_type": "text"
      },
      "source": [
        "<a href=\"https://colab.research.google.com/github/mburkey3/Intro_to_ML/blob/main/Homework5/Homework5_1.ipynb\" target=\"_parent\"><img src=\"https://colab.research.google.com/assets/colab-badge.svg\" alt=\"Open In Colab\"/></a>"
      ]
    },
    {
      "cell_type": "code",
      "execution_count": null,
      "metadata": {
        "id": "PjjWNxOXAOI7"
      },
      "outputs": [],
      "source": [
        "import torch\n",
        "import torch.optim as optim\n",
        "from matplotlib import pyplot as plt"
      ]
    },
    {
      "cell_type": "code",
      "source": [
        "t_c = [0.5, 14.0, 15.0, 28.0, 11.0, 8.0, 3.0, -4.0, 6.0, 13.0, 21.0]\n",
        "t_u = [35.7, 55.9, 58.2, 81.9, 56.3, 48.9, 33.9, 21.8, 48.4, 60.4, 68.4]\n",
        "# convert to tensors\n",
        "t_c = torch.tensor(t_c)\n",
        "t_u = torch.tensor(t_u)\n",
        "\n",
        "t_un = t_u * 0.01"
      ],
      "metadata": {
        "id": "bSJ3gdvcA3uK"
      },
      "execution_count": null,
      "outputs": []
    },
    {
      "cell_type": "code",
      "source": [
        "# (A)\n",
        "# Define the models\n",
        "def model_nonLin(t_u, w1, w2, b) :\n",
        "    return w2 * t_u ** 2 + w1 * t_u + b\n",
        "\n",
        "def model_lin(t_u, w, b) :\n",
        "    return w * t_u + b"
      ],
      "metadata": {
        "id": "aApCxNohCq4E"
      },
      "execution_count": null,
      "outputs": []
    },
    {
      "cell_type": "code",
      "source": [
        "# Set up loss function\n",
        "def loss_fn(t_p, t_c) :\n",
        "    squared_diffs = (t_p - t_c)**2\n",
        "    return squared_diffs.mean()"
      ],
      "metadata": {
        "id": "3dfqafcPF31W"
      },
      "execution_count": null,
      "outputs": []
    },
    {
      "cell_type": "code",
      "source": [
        "# Set up parameters and optimizers\n",
        "nonLin_parameters = torch.tensor([1.0, 0.0, 0.0], requires_grad=True) # w0 w1 w2\n",
        "lin_parameters = torch.tensor([1.0, 0.0], requires_grad=True)\n",
        "\n",
        "lr = 0.1\n",
        "nonLinOpt_SGD = optim.SGD([nonLin_parameters], lr=lr)\n",
        "linOpt_SGD = optim.SGD([lin_parameters], lr=lr)\n",
        "nonLinOpt_ADAM = optim.Adam([nonLin_parameters], lr=lr)\n",
        "linOpt_ADAM = optim.Adam([lin_parameters], lr=lr)"
      ],
      "metadata": {
        "id": "AVAVh-vEGXAw"
      },
      "execution_count": null,
      "outputs": []
    },
    {
      "cell_type": "code",
      "source": [
        "# Training Function\n",
        "def training_nonLin(epochs, opt, params, t_u, t_c) :\n",
        "    for epoch in range(1, epochs + 1):\n",
        "        t_p = model_nonLin(t_u, *params)\n",
        "        loss = loss_fn(t_p, t_c)\n",
        "\n",
        "        opt.zero_grad()\n",
        "        loss.backward()\n",
        "        opt.step()\n",
        "\n",
        "        if epoch % 500 == 0:\n",
        "            print('Epoch %d, Loss %f' % (epoch, float(loss)))\n",
        "\n",
        "    return params\n",
        "\n",
        "# build autograd loop from notes/textbook for original linear model\n",
        "def training_lin(epochs, lr, params, t_u, t_c) :\n",
        "    for epoch in range(1, epochs + 1):\n",
        "        if params.grad is not None:\n",
        "            params.grad.zero_()\n",
        "\n",
        "        t_p = model_lin(t_u, *params)\n",
        "        loss = loss_fn(t_p, t_c)\n",
        "        loss.backward()\n",
        "\n",
        "        with torch.no_grad():\n",
        "            params -= lr * params.grad\n",
        "\n",
        "        if epoch % 500 == 0:\n",
        "            print('Epoch %d, Loss %f' % (epoch, float(loss)))\n",
        "\n",
        "    return params"
      ],
      "metadata": {
        "id": "WFE4k6HQIfJZ"
      },
      "execution_count": null,
      "outputs": []
    },
    {
      "cell_type": "code",
      "source": [
        "# (B) Training the non-linear model with different rates\n",
        "# Training 1: SGD, Learning rate = 0.1\n",
        "training_nonLin(\n",
        "    epochs = 5000,\n",
        "    opt = nonLinOpt_SGD,\n",
        "    params = nonLin_parameters,\n",
        "    t_u = t_un,\n",
        "    t_c = t_c\n",
        ")"
      ],
      "metadata": {
        "colab": {
          "base_uri": "https://localhost:8080/"
        },
        "id": "uFvWH3tKKz-B",
        "outputId": "ec047c51-4983-433c-9df8-b3cc7e96ff04"
      },
      "execution_count": null,
      "outputs": [
        {
          "output_type": "stream",
          "name": "stdout",
          "text": [
            "Epoch 500, Loss 2.109275\n",
            "Epoch 1000, Loss 2.090864\n",
            "Epoch 1500, Loss 2.090846\n",
            "Epoch 2000, Loss 2.090837\n",
            "Epoch 2500, Loss 2.090825\n",
            "Epoch 3000, Loss 2.090814\n",
            "Epoch 3500, Loss 2.090805\n",
            "Epoch 4000, Loss 2.090796\n",
            "Epoch 4500, Loss 2.090790\n",
            "Epoch 5000, Loss 2.090784\n"
          ]
        },
        {
          "output_type": "execute_result",
          "data": {
            "text/plain": [
              "tensor([ 25.0192,  28.0565, -10.7108], requires_grad=True)"
            ]
          },
          "metadata": {},
          "execution_count": 22
        }
      ]
    },
    {
      "cell_type": "code",
      "source": [
        "# Training 2: SGD Learning rate = 0.01\n",
        "lr = 0.01\n",
        "nonLinOpt_SGD = optim.SGD([nonLin_parameters], lr=lr)\n",
        "training_nonLin(\n",
        "    epochs = 5000,\n",
        "    opt = nonLinOpt_SGD,\n",
        "    params = nonLin_parameters,\n",
        "    t_u = t_un,\n",
        "    t_c = t_c\n",
        ")"
      ],
      "metadata": {
        "colab": {
          "base_uri": "https://localhost:8080/"
        },
        "id": "HopT2BztMWdk",
        "outputId": "81a203e1-6d4c-4e13-dd1b-e710f1e5a9d2"
      },
      "execution_count": null,
      "outputs": [
        {
          "output_type": "stream",
          "name": "stdout",
          "text": [
            "Epoch 500, Loss 2.090782\n",
            "Epoch 1000, Loss 2.090782\n",
            "Epoch 1500, Loss 2.090782\n",
            "Epoch 2000, Loss 2.090780\n",
            "Epoch 2500, Loss 2.090780\n",
            "Epoch 3000, Loss 2.090780\n",
            "Epoch 3500, Loss 2.090780\n",
            "Epoch 4000, Loss 2.090780\n",
            "Epoch 4500, Loss 2.090779\n",
            "Epoch 5000, Loss 2.090779\n"
          ]
        },
        {
          "output_type": "execute_result",
          "data": {
            "text/plain": [
              "tensor([ 25.0096,  28.0661, -10.7087], requires_grad=True)"
            ]
          },
          "metadata": {},
          "execution_count": 23
        }
      ]
    },
    {
      "cell_type": "code",
      "source": [
        "# Training 3: SGD, Learning rate = 0.001\n",
        "lr = 0.001\n",
        "nonLinOpt_SGD = optim.SGD([nonLin_parameters], lr=lr)\n",
        "training_nonLin(\n",
        "    epochs = 5000,\n",
        "    opt = nonLinOpt_SGD,\n",
        "    params = nonLin_parameters,\n",
        "    t_u = t_un,\n",
        "    t_c = t_c\n",
        ")"
      ],
      "metadata": {
        "colab": {
          "base_uri": "https://localhost:8080/"
        },
        "id": "whOnYYf-McFz",
        "outputId": "5da7e9ba-b8a2-4da9-ce53-7666eee10846"
      },
      "execution_count": null,
      "outputs": [
        {
          "output_type": "stream",
          "name": "stdout",
          "text": [
            "Epoch 500, Loss 2.090777\n",
            "Epoch 1000, Loss 2.090777\n",
            "Epoch 1500, Loss 2.090777\n",
            "Epoch 2000, Loss 2.090777\n",
            "Epoch 2500, Loss 2.090777\n",
            "Epoch 3000, Loss 2.090777\n",
            "Epoch 3500, Loss 2.090777\n",
            "Epoch 4000, Loss 2.090777\n",
            "Epoch 4500, Loss 2.090777\n",
            "Epoch 5000, Loss 2.090777\n"
          ]
        },
        {
          "output_type": "execute_result",
          "data": {
            "text/plain": [
              "tensor([ 25.0096,  28.0661, -10.7087], requires_grad=True)"
            ]
          },
          "metadata": {},
          "execution_count": 24
        }
      ]
    },
    {
      "cell_type": "code",
      "source": [
        "# Training 4: SGD, Learning rate = 0.0001\n",
        "lr = 0.0001\n",
        "nonLinOpt_SGD = optim.SGD([nonLin_parameters], lr=lr)\n",
        "training_nonLin(\n",
        "    epochs = 5000,\n",
        "    opt = nonLinOpt_SGD,\n",
        "    params = nonLin_parameters,\n",
        "    t_u = t_un,\n",
        "    t_c = t_c\n",
        ")"
      ],
      "metadata": {
        "colab": {
          "base_uri": "https://localhost:8080/"
        },
        "id": "RVEsKXhXMjL_",
        "outputId": "19899f2f-99df-4346-ad3f-d705f9446e41"
      },
      "execution_count": null,
      "outputs": [
        {
          "output_type": "stream",
          "name": "stdout",
          "text": [
            "Epoch 500, Loss 2.090777\n",
            "Epoch 1000, Loss 2.090777\n",
            "Epoch 1500, Loss 2.090777\n",
            "Epoch 2000, Loss 2.090777\n",
            "Epoch 2500, Loss 2.090777\n",
            "Epoch 3000, Loss 2.090777\n",
            "Epoch 3500, Loss 2.090777\n",
            "Epoch 4000, Loss 2.090777\n",
            "Epoch 4500, Loss 2.090777\n",
            "Epoch 5000, Loss 2.090777\n"
          ]
        },
        {
          "output_type": "execute_result",
          "data": {
            "text/plain": [
              "tensor([ 25.0096,  28.0661, -10.7087], requires_grad=True)"
            ]
          },
          "metadata": {},
          "execution_count": 25
        }
      ]
    },
    {
      "cell_type": "code",
      "source": [
        "# Training 1: ADAM, Learning rate = 0.1\n",
        "lr = 0.1\n",
        "nonLinOpt_ADAM = optim.Adam([nonLin_parameters], lr=lr)\n",
        "training_nonLin(\n",
        "    epochs = 5000,\n",
        "    opt = nonLinOpt_ADAM,\n",
        "    params = nonLin_parameters,\n",
        "    t_u = t_un,\n",
        "    t_c = t_c\n",
        ")"
      ],
      "metadata": {
        "id": "47vXTelrMmp7",
        "colab": {
          "base_uri": "https://localhost:8080/"
        },
        "outputId": "6c6a5a31-bdc2-426c-8a1a-6ef0f6232874"
      },
      "execution_count": null,
      "outputs": [
        {
          "output_type": "stream",
          "name": "stdout",
          "text": [
            "Epoch 500, Loss 2.090718\n",
            "Epoch 1000, Loss 2.090720\n",
            "Epoch 1500, Loss 2.090718\n",
            "Epoch 2000, Loss 2.090719\n",
            "Epoch 2500, Loss 2.090719\n",
            "Epoch 3000, Loss 2.090718\n",
            "Epoch 3500, Loss 2.090719\n",
            "Epoch 4000, Loss 2.090718\n",
            "Epoch 4500, Loss 2.090717\n",
            "Epoch 5000, Loss 2.090721\n"
          ]
        },
        {
          "output_type": "execute_result",
          "data": {
            "text/plain": [
              "tensor([ 24.7601,  28.3040, -10.6500], requires_grad=True)"
            ]
          },
          "metadata": {},
          "execution_count": 26
        }
      ]
    },
    {
      "cell_type": "code",
      "source": [
        "# Training 2: ADAM, Learning rate = 0.01\n",
        "lr = 0.01\n",
        "nonLinOpt_ADAM = optim.Adam([nonLin_parameters], lr=lr)\n",
        "training_nonLin(\n",
        "    epochs = 5000,\n",
        "    opt = nonLinOpt_ADAM,\n",
        "    params = nonLin_parameters,\n",
        "    t_u = t_un,\n",
        "    t_c = t_c\n",
        ")"
      ],
      "metadata": {
        "colab": {
          "base_uri": "https://localhost:8080/"
        },
        "id": "S4mP1094ZO6-",
        "outputId": "49afa20c-1eac-4902-92a7-52449f2cf41e"
      },
      "execution_count": null,
      "outputs": [
        {
          "output_type": "stream",
          "name": "stdout",
          "text": [
            "Epoch 500, Loss 2.090719\n",
            "Epoch 1000, Loss 2.090719\n",
            "Epoch 1500, Loss 2.090719\n",
            "Epoch 2000, Loss 2.090719\n",
            "Epoch 2500, Loss 2.090718\n",
            "Epoch 3000, Loss 2.090718\n",
            "Epoch 3500, Loss 2.090717\n",
            "Epoch 4000, Loss 2.090718\n",
            "Epoch 4500, Loss 2.090718\n",
            "Epoch 5000, Loss 2.090719\n"
          ]
        },
        {
          "output_type": "execute_result",
          "data": {
            "text/plain": [
              "tensor([ 24.7605,  28.3044, -10.6495], requires_grad=True)"
            ]
          },
          "metadata": {},
          "execution_count": 27
        }
      ]
    },
    {
      "cell_type": "code",
      "source": [
        "# Training 3: ADAM, Learning rate = 0.001\n",
        "lr = 0.001\n",
        "nonLinOpt_ADAM = optim.Adam([nonLin_parameters], lr=lr)\n",
        "training_nonLin(\n",
        "    epochs = 5000,\n",
        "    opt = nonLinOpt_ADAM,\n",
        "    params = nonLin_parameters,\n",
        "    t_u = t_un,\n",
        "    t_c = t_c\n",
        ")"
      ],
      "metadata": {
        "colab": {
          "base_uri": "https://localhost:8080/"
        },
        "id": "Dm35XyMaZPjx",
        "outputId": "9c5235b6-0957-483c-dfbd-2a94599c2da9"
      },
      "execution_count": null,
      "outputs": [
        {
          "output_type": "stream",
          "name": "stdout",
          "text": [
            "Epoch 500, Loss 2.090719\n",
            "Epoch 1000, Loss 2.090719\n",
            "Epoch 1500, Loss 2.090719\n",
            "Epoch 2000, Loss 2.090719\n",
            "Epoch 2500, Loss 2.090718\n",
            "Epoch 3000, Loss 2.090718\n",
            "Epoch 3500, Loss 2.090719\n",
            "Epoch 4000, Loss 2.090717\n",
            "Epoch 4500, Loss 2.090719\n",
            "Epoch 5000, Loss 2.090717\n"
          ]
        },
        {
          "output_type": "execute_result",
          "data": {
            "text/plain": [
              "tensor([ 24.7604,  28.3043, -10.6496], requires_grad=True)"
            ]
          },
          "metadata": {},
          "execution_count": 28
        }
      ]
    },
    {
      "cell_type": "code",
      "source": [
        "# Training 4: ADAM, Learning rate = 0.0001\n",
        "lr = 0.0001\n",
        "nonLinOpt_ADAM = optim.Adam([nonLin_parameters], lr=lr)\n",
        "training_nonLin(\n",
        "    epochs = 5000,\n",
        "    opt = nonLinOpt_ADAM,\n",
        "    params = nonLin_parameters,\n",
        "    t_u = t_un,\n",
        "    t_c = t_c\n",
        ")"
      ],
      "metadata": {
        "colab": {
          "base_uri": "https://localhost:8080/"
        },
        "id": "_RmNEnyYZQBB",
        "outputId": "fd34d7c5-147a-49ec-c20e-b0ee1176e723"
      },
      "execution_count": null,
      "outputs": [
        {
          "output_type": "stream",
          "name": "stdout",
          "text": [
            "Epoch 500, Loss 2.090719\n",
            "Epoch 1000, Loss 2.090717\n",
            "Epoch 1500, Loss 2.090718\n",
            "Epoch 2000, Loss 2.090718\n",
            "Epoch 2500, Loss 2.090718\n",
            "Epoch 3000, Loss 2.090719\n",
            "Epoch 3500, Loss 2.090719\n",
            "Epoch 4000, Loss 2.090717\n",
            "Epoch 4500, Loss 2.090717\n",
            "Epoch 5000, Loss 2.090719\n"
          ]
        },
        {
          "output_type": "execute_result",
          "data": {
            "text/plain": [
              "tensor([ 24.7604,  28.3043, -10.6496], requires_grad=True)"
            ]
          },
          "metadata": {},
          "execution_count": 29
        }
      ]
    },
    {
      "cell_type": "code",
      "source": [
        "# (C) \"Best\" non-linear model = ADAM, lr = 0.001\n",
        "# Run once again to double check params\n",
        "lr = 0.001\n",
        "nonLinOpt_ADAM = optim.Adam([nonLin_parameters], lr=lr)\n",
        "training_nonLin(\n",
        "    epochs = 5000,\n",
        "    opt = nonLinOpt_ADAM,\n",
        "    params = nonLin_parameters,\n",
        "    t_u = t_un,\n",
        "    t_c = t_c\n",
        ")"
      ],
      "metadata": {
        "colab": {
          "base_uri": "https://localhost:8080/"
        },
        "id": "R6xtvmSYaA7r",
        "outputId": "0d03ef28-eae4-4a31-def6-3e420765674b"
      },
      "execution_count": null,
      "outputs": [
        {
          "output_type": "stream",
          "name": "stdout",
          "text": [
            "Epoch 500, Loss 2.090718\n",
            "Epoch 1000, Loss 2.090719\n",
            "Epoch 1500, Loss 2.090717\n",
            "Epoch 2000, Loss 2.090718\n",
            "Epoch 2500, Loss 2.090719\n",
            "Epoch 3000, Loss 2.090718\n",
            "Epoch 3500, Loss 2.090717\n",
            "Epoch 4000, Loss 2.090718\n",
            "Epoch 4500, Loss 2.090719\n",
            "Epoch 5000, Loss 2.090718\n"
          ]
        },
        {
          "output_type": "execute_result",
          "data": {
            "text/plain": [
              "tensor([ 24.7604,  28.3043, -10.6496], requires_grad=True)"
            ]
          },
          "metadata": {},
          "execution_count": 30
        }
      ]
    },
    {
      "cell_type": "code",
      "source": [
        "# Linear model and training\n",
        "training_lin(\n",
        "    epochs = 5000,\n",
        "    lr = 0.1,\n",
        "    params = lin_parameters,\n",
        "    t_u = t_un,\n",
        "    t_c = t_c\n",
        ")"
      ],
      "metadata": {
        "colab": {
          "base_uri": "https://localhost:8080/"
        },
        "id": "ydX38KBTbopf",
        "outputId": "a4f4ba9b-19ee-484b-81bc-9ae5d7d62b48"
      },
      "execution_count": null,
      "outputs": [
        {
          "output_type": "stream",
          "name": "stdout",
          "text": [
            "Epoch 500, Loss 2.935577\n",
            "Epoch 1000, Loss 2.927780\n",
            "Epoch 1500, Loss 2.927645\n",
            "Epoch 2000, Loss 2.927643\n",
            "Epoch 2500, Loss 2.927644\n",
            "Epoch 3000, Loss 2.927644\n",
            "Epoch 3500, Loss 2.927644\n",
            "Epoch 4000, Loss 2.927644\n",
            "Epoch 4500, Loss 2.927644\n",
            "Epoch 5000, Loss 2.927644\n"
          ]
        },
        {
          "output_type": "execute_result",
          "data": {
            "text/plain": [
              "tensor([ 53.6767, -17.3045], requires_grad=True)"
            ]
          },
          "metadata": {},
          "execution_count": 36
        }
      ]
    },
    {
      "cell_type": "code",
      "source": [
        "# Visualizing the data\n",
        "t_p_non = model_nonLin(t_un, *nonLin_parameters)\n",
        "t_p_lin = model_lin(t_un, *lin_parameters)\n",
        "\n",
        "fig = plt.figure()\n",
        "plt.xlabel(\"Temperature (°Fahrenheit)\")\n",
        "plt.ylabel(\"Temperature (°Celsius)\")\n",
        "plt.plot(t_u.numpy(), t_p_non.detach().numpy())\n",
        "plt.plot(t_u.numpy(), t_p_lin.detach().numpy())\n",
        "plt.plot(t_u.numpy(), t_c.numpy(), 'o')"
      ],
      "metadata": {
        "colab": {
          "base_uri": "https://localhost:8080/",
          "height": 470
        },
        "id": "_6GgvXwUd6RN",
        "outputId": "0cdb82be-1273-44de-965b-c7f221aa2792"
      },
      "execution_count": null,
      "outputs": [
        {
          "output_type": "execute_result",
          "data": {
            "text/plain": [
              "[<matplotlib.lines.Line2D at 0x7fa7f8ab91e0>]"
            ]
          },
          "metadata": {},
          "execution_count": 41
        },
        {
          "output_type": "display_data",
          "data": {
            "text/plain": [
              "<Figure size 640x480 with 1 Axes>"
            ],
            "image/png": "[encoded data removed]"
          },
          "metadata": {}
        }
      ]
    }
  ]
}